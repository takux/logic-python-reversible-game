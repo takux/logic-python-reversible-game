{
 "cells": [
  {
   "cell_type": "code",
   "execution_count": null,
   "metadata": {},
   "outputs": [],
   "source": [
    "# [[0, 0, 0, 0, 0, 0, 0, 0],\n",
    "#  [0, 0, 0, 0, 0, 0, 0, 0],\n",
    "#  [0, 0, 0, 0, 0, 0, 0, 0],\n",
    "#  [0, 0, 0, 1, 2, 0, 0, 0],\n",
    "#  [0, 0, 0, 2, 1, 0, 0, 0],\n",
    "#  [0, 0, 0, 0, 0, 0, 0, 0],\n",
    "#  [0, 0, 0, 0, 0, 0, 0, 0],\n",
    "#  [0, 0, 0, 0, 0, 0, 0, 0]]\n",
    "\n",
    "\n",
    "# board (8x8) \n",
    "board = []\n",
    "\n",
    "# 8 rows\n",
    "for r in range(8):\n",
    "    # print(r)\n",
    "    board.append([])\n",
    "\n",
    "    # 8 columns\n",
    "    for c in range(8):\n",
    "\n",
    "        # cell\n",
    "        if r == 3 and c == 3:\n",
    "            board[r].append(1)\n",
    "        elif r == 3 and c == 4:\n",
    "            board[r].append(2)\n",
    "        elif r == 4 and c == 3:\n",
    "            board[r].append(2)\n",
    "        elif r == 4 and c == 4:\n",
    "            board[r].append(1)\n",
    "        else:\n",
    "            board[r].append(0)\n",
    "\n",
    "\n",
    "board"
   ]
  }
 ],
 "metadata": {
  "language_info": {
   "name": "python"
  },
  "orig_nbformat": 4
 },
 "nbformat": 4,
 "nbformat_minor": 2
}
