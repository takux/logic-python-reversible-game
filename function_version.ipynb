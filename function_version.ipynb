{
 "cells": [
  {
   "cell_type": "code",
   "execution_count": null,
   "metadata": {},
   "outputs": [],
   "source": [
    "# [[0, 0, 0, 0, 0, 0, 0, 0],\n",
    "#  [0, 0, 0, 0, 0, 0, 0, 0],\n",
    "#  [0, 0, 0, 0, 0, 0, 0, 0],\n",
    "#  [0, 0, 0, 0, 0, 0, 0, 0],\n",
    "#  [0, 0, 0, 0, 0, 0, 0, 0],\n",
    "#  [0, 0, 0, 0, 0, 0, 0, 0],\n",
    "#  [0, 0, 0, 0, 0, 0, 0, 0],\n",
    "#  [0, 0, 0, 0, 0, 0, 0, 0]]\n",
    "\n",
    "\n",
    "# board (8x8) \n",
    "board = []\n",
    "\n",
    "# 8 rows\n",
    "for r in range(8):\n",
    "    # print(r)\n",
    "    board.append([])\n",
    "\n",
    "    # 8 columns\n",
    "    for c in range(8):\n",
    "        board[r].append(0)\n",
    "\n",
    "# cell\n",
    "\n",
    "board"
   ]
  }
 ],
 "metadata": {
  "language_info": {
   "name": "python"
  },
  "orig_nbformat": 4
 },
 "nbformat": 4,
 "nbformat_minor": 2
}
