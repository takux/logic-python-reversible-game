{
 "cells": [
  {
   "cell_type": "code",
   "execution_count": null,
   "metadata": {},
   "outputs": [],
   "source": [
    "def create_board():\n",
    "    \"\"\"Create initial board.\"\"\"\n",
    "    board = []\n",
    "    for r in range(8):\n",
    "        board.append([])\n",
    "        for c in range(8):\n",
    "            cell = {\"r\": r, \"c\": c, \"state\": 0}\n",
    "            if r == 3 and c == 3:\n",
    "                cell[\"state\"] = 1\n",
    "            elif r == 3 and c == 4:\n",
    "                cell[\"state\"] = 2\n",
    "            elif r == 4 and c == 3:\n",
    "                cell[\"state\"] = 2\n",
    "            elif r == 4 and c == 4:\n",
    "                cell[\"state\"] = 1\n",
    "            board[r].append(cell)\n",
    "    return board\n",
    "\n",
    "initial_board = create_board()"
   ]
  }
 ],
 "metadata": {
  "language_info": {
   "name": "python"
  },
  "orig_nbformat": 4
 },
 "nbformat": 4,
 "nbformat_minor": 2
}
